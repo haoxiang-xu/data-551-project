{
 "cells": [
  {
   "cell_type": "markdown",
   "id": "9da08d46-b90e-479f-b1df-f1d574961e83",
   "metadata": {},
   "source": [
    "# Dashboard Proposal\n",
    "\n",
    "## 1. Motivation and purpose\n",
    "\n",
    "Role: Data Science Consultancy Team\n",
    "\n",
    "Target Audience: Anime Enthusiasts, Anime Industry Professionals\n",
    "\n",
    "Anime is becoming increasingly popular due to a growing fan base and advancements in anime production technology. Fans and anime-related businesses or companies are aware of the attraction and the expanding market of the anime. Thus, as a data science consultancy team, we are interested in the factors that most significantly impact anime popularity and ratings and how anime industries and companies can use these insights to maximize profitability or attract more fans.\n",
    "\n",
    "Moreover, the purpose of our project is to create a dashboard with several interactive visualizations to determine the factors that strongly correlate with audience satisfaction through the analysis of metrics such as scores, genre, type, timeline, and popularity of anime. Through the interactivity of the provided visualizations, users can examine the data, view relationships, and research patterns regarding the success of anime on a deeper level. For the specific target audience, the dashboard can help anime enthusiasts quickly find top-rated anime, as well as assist anime industry professionals in gaining a deeper understanding of the anime market and producing higher-rated anime.\n"
   ]
  },
  {
   "cell_type": "code",
   "execution_count": null,
   "id": "fc576f20-1c24-47a0-988d-4a4ede766a42",
   "metadata": {},
   "outputs": [],
   "source": []
  }
 ],
 "metadata": {
  "kernelspec": {
   "display_name": "Python 3 (ipykernel)",
   "language": "python",
   "name": "python3"
  },
  "language_info": {
   "codemirror_mode": {
    "name": "ipython",
    "version": 3
   },
   "file_extension": ".py",
   "mimetype": "text/x-python",
   "name": "python",
   "nbconvert_exporter": "python",
   "pygments_lexer": "ipython3",
   "version": "3.12.3"
  }
 },
 "nbformat": 4,
 "nbformat_minor": 5
}
